{
 "cells": [
  {
   "cell_type": "code",
   "execution_count": 1,
   "metadata": {
    "collapsed": true
   },
   "outputs": [],
   "source": [
    "from numpy.random import normal\n",
    "gaussian_numbers = normal(size=1000)"
   ]
  },
  {
   "cell_type": "markdown",
   "metadata": {},
   "source": [
    "###### %matplotlib inline\n",
    "import matplotlib.pyplot as plt\n",
    "from numpy.random import normal\n",
    "gaussian_numbers = normal(size=1000)\n",
    "plt.hist(gaussian_numbers)\n",
    "plt.title(\"Gaussian Histogram\")\n",
    "plt.xlabel(\"Value\")\n",
    "plt.ylabel(\"Frequency\")\n",
    "plt.show()"
   ]
  },
  {
   "cell_type": "code",
   "execution_count": 5,
   "metadata": {
    "collapsed": true
   },
   "outputs": [],
   "source": [
    "from sklearn import linear_model"
   ]
  },
  {
   "cell_type": "code",
   "execution_count": 6,
   "metadata": {
    "collapsed": false
   },
   "outputs": [
    {
     "data": {
      "image/png": "[encoded data removed]",
      "text/plain": [
       "<matplotlib.figure.Figure at 0xf046048>"
      ]
     },
     "metadata": {},
     "output_type": "display_data"
    }
   ],
   "source": [
    "# Code source: Gael Varoquaux\n",
    "# License: BSD 3 clause\n",
    "\n",
    "import numpy as np\n",
    "import matplotlib.pyplot as plt\n",
    "\n",
    "from sklearn import linear_model\n",
    "\n",
    "# this is our test set, it's just a straight line with some\n",
    "# Gaussian noise\n",
    "xmin, xmax = -5, 5\n",
    "n_samples = 100\n",
    "np.random.seed(0)\n",
    "X = np.random.normal(size=n_samples)\n",
    "y = (X > 0).astype(np.float)\n",
    "X[X > 0] *= 4\n",
    "X += .3 * np.random.normal(size=n_samples)\n",
    "\n",
    "X = X[:, np.newaxis]\n",
    "# run the classifier\n",
    "clf = linear_model.LogisticRegression(C=1e5)\n",
    "clf.fit(X, y)\n",
    "\n",
    "# and plot the result\n",
    "plt.figure(1, figsize=(4, 3))\n",
    "plt.clf()\n",
    "plt.scatter(X.ravel(), y, color='black', zorder=20)\n",
    "X_test = np.linspace(-5, 10, 300)\n",
    "\n",
    "\n",
    "def model(x):\n",
    "    return 1 / (1 + np.exp(-x))\n",
    "loss = model(X_test * clf.coef_ + clf.intercept_).ravel()\n",
    "plt.plot(X_test, loss, color='blue', linewidth=3)\n",
    "\n",
    "ols = linear_model.LinearRegression()\n",
    "ols.fit(X, y)\n",
    "plt.plot(X_test, ols.coef_ * X_test + ols.intercept_, linewidth=1)\n",
    "plt.axhline(.5, color='.5')\n",
    "\n",
    "plt.ylabel('y')\n",
    "plt.xlabel('X')\n",
    "plt.xticks(())\n",
    "plt.yticks(())\n",
    "plt.ylim(-.25, 1.25)\n",
    "plt.xlim(-4, 10)\n",
    "\n",
    "plt.show()"
   ]
  },
  {
   "cell_type": "code",
   "execution_count": 7,
   "metadata": {
    "collapsed": false
   },
   "outputs": [
    {
     "name": "stdout",
     "output_type": "stream",
     "text": [
      "A normal continuous random variable.\n",
      "\n",
      "    The location (loc) keyword specifies the mean.\n",
      "    The scale (scale) keyword specifies the standard deviation.\n",
      "\n",
      "    As an instance of the `rv_continuous` class, `norm` object inherits from it\n",
      "    a collection of generic methods (see below for the full list),\n",
      "    and completes them with details specific for this particular distribution.\n",
      "    \n",
      "    Methods\n",
      "    -------\n",
      "    ``rvs(loc=0, scale=1, size=1, random_state=None)``\n",
      "        Random variates.\n",
      "    ``pdf(x, loc=0, scale=1)``\n",
      "        Probability density function.\n",
      "    ``logpdf(x, loc=0, scale=1)``\n",
      "        Log of the probability density function.\n",
      "    ``cdf(x, loc=0, scale=1)``\n",
      "        Cumulative density function.\n",
      "    ``logcdf(x, loc=0, scale=1)``\n",
      "        Log of the cumulative density function.\n",
      "    ``sf(x, loc=0, scale=1)``\n",
      "        Survival function (``1 - cdf`` --- sometimes more accurate).\n",
      "    ``logsf(x, loc=0, scale=1)``\n",
      "        Log of the survival function.\n",
      "    ``ppf(q, loc=0, scale=1)``\n",
      "        Percent point function (inverse of ``cdf`` --- percentiles).\n",
      "    ``isf(q, loc=0, scale=1)``\n",
      "        Inverse survival function (inverse of ``sf``).\n",
      "    ``moment(n, loc=0, scale=1)``\n",
      "        Non-central moment of order n\n",
      "    ``stats(loc=0, scale=1, moments='mv')``\n",
      "        Mean('m'), variance('v'), skew('s'), and/or kurtosis('k').\n",
      "    ``entropy(loc=0, scale=1)``\n",
      "        (Differential) entropy of the RV.\n",
      "    ``fit(data, loc=0, scale=1)``\n",
      "        Parameter estimates for generic data.\n",
      "    ``expect(func, loc=0, scale=1, lb=None, ub=None, conditional=False, **kwds)``\n",
      "        Expected value of a function (of one argument) with respect to the distribution.\n",
      "    ``median(loc=0, scale=1)``\n",
      "        Median of the distribution.\n",
      "    ``mean(loc=0, scale=1)``\n",
      "        Mean of the distribution.\n",
      "    ``var(loc=0, scale=1)``\n",
      "        Variance of the distribution.\n",
      "    ``std(loc=0, scale=1)``\n",
      "        Standard deviation of the distribution.\n",
      "    ``interval(alpha, loc=0, scale=1)``\n",
      "        Endpoints of the range that contains alpha percent of the distribution\n",
      "\n",
      "    Notes\n",
      "    -----\n",
      "    The probability density function for `norm` is::\n",
      "\n",
      "        norm.pdf(x) = exp(-x**2/2)/sqrt(2*pi)\n",
      "\n",
      "    \\  \n",
      "    The probability density above is defined in the \"standardized\" form. To shift\n",
      "    and/or scale the distribution use the ``loc`` and ``scale`` parameters.\n",
      "    Specifically, ``norm.pdf(x, loc, scale)`` is identically\n",
      "    equivalent to ``norm.pdf(y) / scale`` with\n",
      "    ``y = (x - loc) / scale``.\n",
      "\n",
      "    Examples\n",
      "    --------\n",
      "    >>> from scipy.stats import norm\n",
      "    >>> import matplotlib.pyplot as plt\n",
      "    >>> fig, ax = plt.subplots(1, 1)\n",
      "    \n",
      "    Calculate a few first moments:\n",
      "    \n",
      "    \n",
      "    >>> mean, var, skew, kurt = norm.stats(moments='mvsk')\n",
      "    \n",
      "    Display the probability density function (``pdf``):\n",
      "    \n",
      "    >>> x = np.linspace(norm.ppf(0.01),\n",
      "    ...                 norm.ppf(0.99), 100)\n",
      "    >>> ax.plot(x, norm.pdf(x),\n",
      "    ...        'r-', lw=5, alpha=0.6, label='norm pdf')\n",
      "    \n",
      "    Alternatively, the distribution object can be called (as a function)\n",
      "    to fix the shape, location and scale parameters. This returns a \"frozen\"\n",
      "    RV object holding the given parameters fixed. \n",
      "    \n",
      "    Freeze the distribution and display the frozen ``pdf``:\n",
      "    \n",
      "    >>> rv = norm()\n",
      "    >>> ax.plot(x, rv.pdf(x), 'k-', lw=2, label='frozen pdf')\n",
      "    \n",
      "    Check accuracy of ``cdf`` and ``ppf``:\n",
      "    \n",
      "    >>> vals = norm.ppf([0.001, 0.5, 0.999])\n",
      "    >>> np.allclose([0.001, 0.5, 0.999], norm.cdf(vals))\n",
      "    True\n",
      "    \n",
      "    Generate random numbers:\n",
      "    \n",
      "    >>> r = norm.rvs(size=1000)\n",
      "    \n",
      "    And compare the histogram:\n",
      "    \n",
      "    >>> ax.hist(r, normed=True, histtype='stepfilled', alpha=0.2)\n",
      "    >>> ax.legend(loc='best', frameon=False)\n",
      "    >>> plt.show()\n",
      "    \n",
      "\n",
      "    \n"
     ]
    }
   ],
   "source": [
    "from scipy import stats\n",
    "from scipy.stats import norm\n",
    "print norm.__doc__"
   ]
  },
  {
   "cell_type": "code",
   "execution_count": 1,
   "metadata": {
    "collapsed": false
   },
   "outputs": [
    {
     "name": "stdout",
     "output_type": "stream",
     "text": [
      "[ 0.05169324  0.04656853  0.43037993  0.4713583 ]\n"
     ]
    }
   ],
   "source": [
    "# Feature Importance\n",
    "from sklearn import datasets\n",
    "from sklearn import metrics\n",
    "from sklearn.ensemble import ExtraTreesClassifier\n",
    "# load the iris datasets\n",
    "dataset = datasets.load_iris()\n",
    "# fit an Extra Trees model to the data\n",
    "model = ExtraTreesClassifier()\n",
    "model.fit(dataset.data, dataset.target)\n",
    "# display the relative importance of each attribute\n",
    "print(model.feature_importances_)"
   ]
  },
  {
   "cell_type": "code",
   "execution_count": null,
   "metadata": {
    "collapsed": true
   },
   "outputs": [],
   "source": []
  }
 ],
 "metadata": {
  "kernelspec": {
   "display_name": "Python 2",
   "language": "python",
   "name": "python2"
  },
  "language_info": {
   "codemirror_mode": {
    "name": "ipython",
    "version": 2
   },
   "file_extension": ".py",
   "mimetype": "text/x-python",
   "name": "python",
   "nbconvert_exporter": "python",
   "pygments_lexer": "ipython2",
   "version": "2.7.10"
  }
 },
 "nbformat": 4,
 "nbformat_minor": 0
}
