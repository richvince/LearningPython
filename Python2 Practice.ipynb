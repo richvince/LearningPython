{
 "cells": [
  {
   "cell_type": "code",
   "execution_count": 3,
   "metadata": {
    "collapsed": false
   },
   "outputs": [
    {
     "name": "stdout",
     "output_type": "stream",
     "text": [
      "[]\n"
     ]
    }
   ],
   "source": [
    "l = list()\n",
    "print(l)"
   ]
  },
  {
   "cell_type": "code",
   "execution_count": 16,
   "metadata": {
    "collapsed": false
   },
   "outputs": [
    {
     "name": "stdout",
     "output_type": "stream",
     "text": [
      "3\n"
     ]
    }
   ],
   "source": [
    "l = [1,2,3]\n",
    "print(len(l))"
   ]
  },
  {
   "cell_type": "code",
   "execution_count": 24,
   "metadata": {
    "collapsed": false
   },
   "outputs": [
    {
     "name": "stdout",
     "output_type": "stream",
     "text": [
      "['This', 'is', 'an']\n",
      "['example', 'of', 'text']\n",
      "['justification.']\n",
      "['This    is    an', 'example  of  text', 'justification.  ']\n"
     ]
    }
   ],
   "source": [
    "words = [\"This\", \"is\", \"an\", \"example\", \"of\", \"text\", \"justification.\"]\n",
    "maxWidth = 16\n",
    "result = list()\n",
    "len_of_words = list()\n",
    "total_len = 0\n",
    "for word in words:\n",
    "    len_of_words.append(len(word))\n",
    "    total_len += len(word)\n",
    "    # here is the corner cases\n",
    "    total_spaces = total_len + len(word) - 1 \n",
    "if(total_spaces <= maxWidth):\n",
    "    one_word = str()\n",
    "    for word in words:\n",
    "        one_word += word + \" \"\n",
    "                \n",
    "    # remove extra white space in the end\n",
    "    one_word = one_word[:-1]\n",
    "    # add white spaces at the end\n",
    "    for i in range (0, maxWidth - total_spaces):\n",
    "        one_word += \" \"\n",
    "    result.append(one_word)\n",
    "    print(result)\n",
    "        \n",
    "i = 0\n",
    "while (i < len(words)):\n",
    "    tmp_list = list()\n",
    "    tmp_str = str()\n",
    "    j = i\n",
    "    current_len = 0\n",
    "    while(j < len(words) and len(words[j])+current_len <= maxWidth):\n",
    "        tmp_list.append(words[j])\n",
    "        current_len += len(words[j]) + 1\n",
    "        j += 1\n",
    "        \n",
    "    print(tmp_list)\n",
    "    current_len -= 1\n",
    "    num_words = len(tmp_list)\n",
    "    diff = maxWidth - current_len\n",
    "    if(diff == 0):\n",
    "        for word in tmp_list:\n",
    "            tmp_str += word + \" \"\n",
    "        tmp_str = tmp_str[:-1]\n",
    "        result.append(tmp_str)\n",
    "    elif (j == len(words)):\n",
    "        tmp_len = 0\n",
    "        for word in tmp_list:\n",
    "            tmp_str += word + \" \"\n",
    "            tmp_len += len(word) + 1\n",
    "                \n",
    "        if(tmp_len < maxWidth):\n",
    "            for i in range(0, maxWidth-tmp_len):\n",
    "                tmp_str += \" \"\n",
    "                        \n",
    "            result.append(tmp_str)\n",
    "            \n",
    "    else:\n",
    "        num_whites = num_words-1\n",
    "        if(num_whites == 0):\n",
    "            word = tmp_list[0]\n",
    "            extra_whites_len = maxWidth - len(word)\n",
    "            extra_whites = \"\"\n",
    "            for i in range(0, extra_whites_len):\n",
    "                extra_whites += \" \"\n",
    "            tmp_str = word + extra_whites\n",
    "            result.append(tmp_str)\n",
    "        elif(diff % num_whites == 0):\n",
    "            num_extra_whites = diff / num_whites\n",
    "            whites = \" \"\n",
    "            for i in range(0, num_extra_whites):\n",
    "                whites += \" \"\n",
    "            for i in range(0, len(tmp_list)):\n",
    "                if(i != len(tmp_list)-1):\n",
    "                    tmp_str += tmp_list[i]+whites\n",
    "                else:\n",
    "                    tmp_str += tmp_list[i]\n",
    "            result.append(tmp_str)\n",
    "                    \n",
    "        else:\n",
    "            remainder = diff % num_whites\n",
    "            num_extra_whites = diff/num_whites\n",
    "            whites = \" \"\n",
    "            for i in range(0, len(tmp_list)):\n",
    "                for j in range(0, num_extra_whites):\n",
    "                    whites += \" \"\n",
    "                if(i < remainder):\n",
    "                    whites += \" \"\n",
    "                        \n",
    "                if(i != len(tmp_list)-1):\n",
    "                    tmp_str += tmp_list[i]+whites\n",
    "                else:\n",
    "                    tmp_str += tmp_list[i]\n",
    "            result.append(tmp_str)\n",
    "            \n",
    "    i = j\n",
    "              \n",
    "print(result)"
   ]
  },
  {
   "cell_type": "code",
   "execution_count": null,
   "metadata": {
    "collapsed": true
   },
   "outputs": [],
   "source": []
  }
 ],
 "metadata": {
  "kernelspec": {
   "display_name": "Python 2",
   "language": "python",
   "name": "python2"
  },
  "language_info": {
   "codemirror_mode": {
    "name": "ipython",
    "version": 2
   },
   "file_extension": ".py",
   "mimetype": "text/x-python",
   "name": "python",
   "nbconvert_exporter": "python",
   "pygments_lexer": "ipython2",
   "version": "2.7.10"
  }
 },
 "nbformat": 4,
 "nbformat_minor": 0
}
