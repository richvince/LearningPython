{
 "cells": [
  {
   "cell_type": "code",
   "execution_count": 1,
   "metadata": {
    "collapsed": false
   },
   "outputs": [],
   "source": [
    "import pymc as pm\n",
    "\n",
    "\n",
    "parameter = pm.Exponential(\"poisson_param\", 1)\n",
    "data_generator = pm.Poisson(\"data_generator\", parameter)\n",
    "data_plus_one = data_generator + 1"
   ]
  },
  {
   "cell_type": "code",
   "execution_count": 2,
   "metadata": {
    "collapsed": false
   },
   "outputs": [
    {
     "name": "stdout",
     "output_type": "stream",
     "text": [
      "Children of `parameter`: \n",
      "set([<pymc.distributions.Poisson 'data_generator' at 0x000000002116E390>])\n",
      "\n",
      "Parents of `data_generator`: \n",
      "{'mu': <pymc.distributions.Exponential 'poisson_param' at 0x0000000004161160>}\n",
      "\n",
      "Children of `data_generator`: \n",
      "set([<pymc.PyMCObjects.Deterministic '(data_generator_add_1)' at 0x00000000041610F0>])\n"
     ]
    }
   ],
   "source": [
    "print \"Children of `parameter`: \"\n",
    "print parameter.children\n",
    "print \"\\nParents of `data_generator`: \"\n",
    "print data_generator.parents\n",
    "print \"\\nChildren of `data_generator`: \"\n",
    "print data_generator.children"
   ]
  },
  {
   "cell_type": "code",
   "execution_count": 3,
   "metadata": {
    "collapsed": true
   },
   "outputs": [],
   "source": [
    "beta_1 = pm.Uniform(\"beta_1\", 0, 1)\n",
    "beta_2 = pm.Uniform(\"beta_2\", 0, 1)"
   ]
  },
  {
   "cell_type": "code",
   "execution_count": 4,
   "metadata": {
    "collapsed": false
   },
   "outputs": [
    {
     "name": "stdout",
     "output_type": "stream",
     "text": [
      "lambda_1.value = 0.785\n",
      "lambda_2.value = 2.307\n",
      "tau.value = 9.000\n",
      "\n",
      "After calling random() on the variables...\n",
      "lambda_1.value = 0.054\n",
      "lambda_2.value = 0.033\n",
      "tau.value = 2.000\n"
     ]
    }
   ],
   "source": [
    "lambda_1 = pm.Exponential(\"lambda_1\", 1)  # prior on first behaviour\n",
    "lambda_2 = pm.Exponential(\"lambda_2\", 1)  # prior on second behaviour\n",
    "tau = pm.DiscreteUniform(\"tau\", lower=0, upper=10)  # prior on behaviour change\n",
    "\n",
    "print \"lambda_1.value = %.3f\" % lambda_1.value\n",
    "print \"lambda_2.value = %.3f\" % lambda_2.value\n",
    "print \"tau.value = %.3f\" % tau.value\n",
    "print\n",
    "\n",
    "lambda_1.random(), lambda_2.random(), tau.random()\n",
    "\n",
    "print \"After calling random() on the variables...\"\n",
    "print \"lambda_1.value = %.3f\" % lambda_1.value\n",
    "print \"lambda_2.value = %.3f\" % lambda_2.value\n",
    "print \"tau.value = %.3f\" % tau.value"
   ]
  },
  {
   "cell_type": "code",
   "execution_count": 5,
   "metadata": {
    "collapsed": false
   },
   "outputs": [
    {
     "data": {
      "text/plain": [
       "pymc.PyMCObjects.Deterministic"
      ]
     },
     "execution_count": 5,
     "metadata": {},
     "output_type": "execute_result"
    }
   ],
   "source": [
    "type(lambda_1 + lambda_2)"
   ]
  },
  {
   "cell_type": "code",
   "execution_count": 6,
   "metadata": {
    "collapsed": true
   },
   "outputs": [],
   "source": [
    "import numpy as np\n",
    "n_data_points = 5  # in CH1 we had ~70 data points\n",
    "\n",
    "\n",
    "@pm.deterministic\n",
    "def lambda_(tau=tau, lambda_1=lambda_1, lambda_2=lambda_2):\n",
    "    out = np.zeros(n_data_points)\n",
    "    out[:tau] = lambda_1  # lambda before tau is lambda1\n",
    "    out[tau:] = lambda_2  # lambda after tau is lambda2\n",
    "    return out"
   ]
  },
  {
   "cell_type": "code",
   "execution_count": 7,
   "metadata": {
    "collapsed": false
   },
   "outputs": [
    {
     "data": {
      "image/png": "[encoded data removed]",
      "text/plain": [
       "<matplotlib.figure.Figure at 0x4125b70>"
      ]
     },
     "metadata": {},
     "output_type": "display_data"
    }
   ],
   "source": [
    "%matplotlib inline\n",
    "from IPython.core.pylabtools import figsize\n",
    "from matplotlib import pyplot as plt\n",
    "figsize(12.5, 4)\n",
    "\n",
    "\n",
    "samples = [lambda_1.random() for i in range(20000)]\n",
    "plt.hist(samples, bins=70, normed=True, histtype=\"stepfilled\")\n",
    "plt.title(\"Prior distribution for $\\lambda_1$\")\n",
    "plt.xlim(0, 8);"
   ]
  },
  {
   "cell_type": "code",
   "execution_count": 8,
   "metadata": {
    "collapsed": false
   },
   "outputs": [
    {
     "name": "stdout",
     "output_type": "stream",
     "text": [
      "value:  [10  5]\n",
      "calling .random()\n",
      "value:  [10  5]\n"
     ]
    }
   ],
   "source": [
    "data = np.array([10, 5])\n",
    "fixed_variable = pm.Poisson(\"fxd\", 1, value=data, observed=True)\n",
    "print \"value: \", fixed_variable.value\n",
    "print \"calling .random()\"\n",
    "fixed_variable.random()\n",
    "print \"value: \", fixed_variable.value"
   ]
  },
  {
   "cell_type": "code",
   "execution_count": 9,
   "metadata": {
    "collapsed": false
   },
   "outputs": [
    {
     "name": "stdout",
     "output_type": "stream",
     "text": [
      "[10 25 15 20 35]\n"
     ]
    }
   ],
   "source": [
    "# We're using some fake data here\n",
    "data = np.array([10, 25, 15, 20, 35])\n",
    "obs = pm.Poisson(\"obs\", lambda_, value=data, observed=True)\n",
    "print obs.value"
   ]
  },
  {
   "cell_type": "code",
   "execution_count": 10,
   "metadata": {
    "collapsed": true
   },
   "outputs": [],
   "source": [
    "model = pm.Model([obs, lambda_, lambda_1, lambda_2, tau])"
   ]
  },
  {
   "cell_type": "code",
   "execution_count": 11,
   "metadata": {
    "collapsed": false
   },
   "outputs": [
    {
     "name": "stdout",
     "output_type": "stream",
     "text": [
      "14\n"
     ]
    }
   ],
   "source": [
    "tau = pm.rdiscrete_uniform(0, 80)\n",
    "print tau"
   ]
  },
  {
   "cell_type": "code",
   "execution_count": 12,
   "metadata": {
    "collapsed": false
   },
   "outputs": [
    {
     "name": "stdout",
     "output_type": "stream",
     "text": [
      "15.0153485031 8.37344867112\n"
     ]
    }
   ],
   "source": [
    "alpha = 1. / 20.\n",
    "lambda_1, lambda_2 = pm.rexponential(alpha, 2)\n",
    "print lambda_1, lambda_2"
   ]
  },
  {
   "cell_type": "code",
   "execution_count": 13,
   "metadata": {
    "collapsed": true
   },
   "outputs": [],
   "source": [
    "data = np.r_[pm.rpoisson(lambda_1, tau), pm.rpoisson(lambda_2, 80 - tau)]"
   ]
  },
  {
   "cell_type": "code",
   "execution_count": 14,
   "metadata": {
    "collapsed": false
   },
   "outputs": [
    {
     "data": {
      "image/png": "[encoded data removed]",
      "text/plain": [
       "<matplotlib.figure.Figure at 0x217d3630>"
      ]
     },
     "metadata": {},
     "output_type": "display_data"
    }
   ],
   "source": [
    "plt.bar(np.arange(80), data, color=\"#348ABD\")\n",
    "plt.bar(tau - 1, data[tau - 1], color=\"r\", label=\"user behaviour changed\")\n",
    "plt.xlabel(\"Time (days)\")\n",
    "plt.ylabel(\"count of text-msgs received\")\n",
    "plt.title(\"Artificial dataset\")\n",
    "plt.xlim(0, 80)\n",
    "plt.legend();"
   ]
  },
  {
   "cell_type": "code",
   "execution_count": 15,
   "metadata": {
    "collapsed": true
   },
   "outputs": [],
   "source": [
    "import pymc as pm\n",
    "\n",
    "# The parameters are the bounds of the Uniform.\n",
    "p = pm.Uniform('p', lower=0, upper=1)"
   ]
  },
  {
   "cell_type": "code",
   "execution_count": 20,
   "metadata": {
    "collapsed": false
   },
   "outputs": [
    {
     "name": "stdout",
     "output_type": "stream",
     "text": [
      "[False False False ..., False False False]\n",
      "150\n"
     ]
    }
   ],
   "source": [
    "# set constants\n",
    "p_true = 0.05  # remember, this is unknown.\n",
    "N = 3000\n",
    "\n",
    "# sample N Bernoulli random variables from Ber(0.05).\n",
    "# each random variable has a 0.05 chance of being a 1.\n",
    "# this is the data-generation step\n",
    "occurrences = pm.rbernoulli(p_true, N)\n",
    "\n",
    "print occurrences  # Remember: Python treats True == 1, and False == 0\n",
    "print occurrences.sum()"
   ]
  },
  {
   "cell_type": "code",
   "execution_count": 21,
   "metadata": {
    "collapsed": false
   },
   "outputs": [
    {
     "name": "stdout",
     "output_type": "stream",
     "text": [
      "What is the observed frequency in Group A? 0.0500\n",
      "Does this equal the true frequency? True\n"
     ]
    }
   ],
   "source": [
    "# Occurrences.mean is equal to n/N.\n",
    "print \"What is the observed frequency in Group A? %.4f\" % occurrences.mean()\n",
    "print \"Does this equal the true frequency? %s\" % (occurrences.mean() == p_true)"
   ]
  },
  {
   "cell_type": "code",
   "execution_count": 22,
   "metadata": {
    "collapsed": false
   },
   "outputs": [
    {
     "name": "stdout",
     "output_type": "stream",
     "text": [
      " [-----------------100%-----------------] 18000 of 18000 complete in 1.5 sec"
     ]
    }
   ],
   "source": [
    "# include the observations, which are Bernoulli\n",
    "obs = pm.Bernoulli(\"obs\", p, value=occurrences, observed=True)\n",
    "\n",
    "# To be explained in chapter 3\n",
    "mcmc = pm.MCMC([p, obs])\n",
    "mcmc.sample(18000, 1000)"
   ]
  },
  {
   "cell_type": "code",
   "execution_count": 23,
   "metadata": {
    "collapsed": false
   },
   "outputs": [
    {
     "data": {
      "text/plain": [
       "<matplotlib.legend.Legend at 0x2283ac50>"
      ]
     },
     "execution_count": 23,
     "metadata": {},
     "output_type": "execute_result"
    },
    {
     "data": {
      "image/png": "[encoded data removed]",
      "text/plain": [
       "<matplotlib.figure.Figure at 0x22578eb8>"
      ]
     },
     "metadata": {},
     "output_type": "display_data"
    }
   ],
   "source": [
    "figsize(12.5, 4)\n",
    "plt.title(\"Posterior distribution of $p_A$, the true effectiveness of site A\")\n",
    "plt.vlines(p_true, 0, 90, linestyle=\"--\", label=\"true $p_A$ (unknown)\")\n",
    "plt.hist(mcmc.trace(\"p\")[:], bins=25, histtype=\"stepfilled\", normed=True)\n",
    "plt.legend()"
   ]
  },
  {
   "cell_type": "code",
   "execution_count": 24,
   "metadata": {
    "collapsed": false
   },
   "outputs": [
    {
     "name": "stdout",
     "output_type": "stream",
     "text": [
      "Obs from Site A:  [0 0 0 0 0 0 0 0 0 0 0 0 0 0 0 0 0 0 0 0 0 1 0 0 0 0 0 0 0 0] ...\n",
      "Obs from Site B:  [0 0 0 0 0 0 0 0 0 0 0 0 1 0 0 0 0 0 0 0 0 0 0 0 0 0 0 0 0 0] ...\n"
     ]
    }
   ],
   "source": [
    "import pymc as pm\n",
    "figsize(12, 4)\n",
    "\n",
    "# these two quantities are unknown to us.\n",
    "true_p_A = 0.05\n",
    "true_p_B = 0.04\n",
    "\n",
    "# notice the unequal sample sizes -- no problem in Bayesian analysis.\n",
    "N_A = 1500\n",
    "N_B = 750\n",
    "\n",
    "# generate some observations\n",
    "observations_A = pm.rbernoulli(true_p_A, N_A)\n",
    "observations_B = pm.rbernoulli(true_p_B, N_B)\n",
    "print \"Obs from Site A: \", observations_A[:30].astype(int), \"...\"\n",
    "print \"Obs from Site B: \", observations_B[:30].astype(int), \"...\""
   ]
  },
  {
   "cell_type": "code",
   "execution_count": 25,
   "metadata": {
    "collapsed": false
   },
   "outputs": [
    {
     "name": "stdout",
     "output_type": "stream",
     "text": [
      "0.0513333333333\n",
      "0.0373333333333\n"
     ]
    }
   ],
   "source": [
    "print observations_A.mean()\n",
    "print observations_B.mean()"
   ]
  },
  {
   "cell_type": "code",
   "execution_count": 26,
   "metadata": {
    "collapsed": false
   },
   "outputs": [
    {
     "name": "stdout",
     "output_type": "stream",
     "text": [
      " [-----------------100%-----------------] 20000 of 20000 complete in 1.7 sec"
     ]
    }
   ],
   "source": [
    "# Set up the pymc model. Again assume Uniform priors for p_A and p_B.\n",
    "p_A = pm.Uniform(\"p_A\", 0, 1)\n",
    "p_B = pm.Uniform(\"p_B\", 0, 1)\n",
    "\n",
    "\n",
    "# Define the deterministic delta function. This is our unknown of interest.\n",
    "@pm.deterministic\n",
    "def delta(p_A=p_A, p_B=p_B):\n",
    "    return p_A - p_B\n",
    "\n",
    "# Set of observations, in this case we have two observation datasets.\n",
    "obs_A = pm.Bernoulli(\"obs_A\", p_A, value=observations_A, observed=True)\n",
    "obs_B = pm.Bernoulli(\"obs_B\", p_B, value=observations_B, observed=True)\n",
    "\n",
    "# To be explained in chapter 3.\n",
    "mcmc = pm.MCMC([p_A, p_B, delta, obs_A, obs_B])\n",
    "mcmc.sample(20000, 1000)"
   ]
  },
  {
   "cell_type": "code",
   "execution_count": 27,
   "metadata": {
    "collapsed": true
   },
   "outputs": [],
   "source": [
    "p_A_samples = mcmc.trace(\"p_A\")[:]\n",
    "p_B_samples = mcmc.trace(\"p_B\")[:]\n",
    "delta_samples = mcmc.trace(\"delta\")[:]"
   ]
  },
  {
   "cell_type": "code",
   "execution_count": 28,
   "metadata": {
    "collapsed": false
   },
   "outputs": [
    {
     "data": {
      "image/png": "[encoded data removed]",
      "text/plain": [
       "<matplotlib.figure.Figure at 0x22859a58>"
      ]
     },
     "metadata": {},
     "output_type": "display_data"
    }
   ],
   "source": [
    "figsize(12.5, 10)\n",
    "\n",
    "# histogram of posteriors\n",
    "\n",
    "ax = plt.subplot(311)\n",
    "\n",
    "plt.xlim(0, .1)\n",
    "plt.hist(p_A_samples, histtype='stepfilled', bins=25, alpha=0.85,\n",
    "         label=\"posterior of $p_A$\", color=\"#A60628\", normed=True)\n",
    "plt.vlines(true_p_A, 0, 80, linestyle=\"--\", label=\"true $p_A$ (unknown)\")\n",
    "plt.legend(loc=\"upper right\")\n",
    "plt.title(\"Posterior distributions of $p_A$, $p_B$, and delta unknowns\")\n",
    "\n",
    "ax = plt.subplot(312)\n",
    "\n",
    "plt.xlim(0, .1)\n",
    "plt.hist(p_B_samples, histtype='stepfilled', bins=25, alpha=0.85,\n",
    "         label=\"posterior of $p_B$\", color=\"#467821\", normed=True)\n",
    "plt.vlines(true_p_B, 0, 80, linestyle=\"--\", label=\"true $p_B$ (unknown)\")\n",
    "plt.legend(loc=\"upper right\")\n",
    "\n",
    "ax = plt.subplot(313)\n",
    "plt.hist(delta_samples, histtype='stepfilled', bins=30, alpha=0.85,\n",
    "         label=\"posterior of delta\", color=\"#7A68A6\", normed=True)\n",
    "plt.vlines(true_p_A - true_p_B, 0, 60, linestyle=\"--\",\n",
    "           label=\"true delta (unknown)\")\n",
    "plt.vlines(0, 0, 60, color=\"black\", alpha=0.2)\n",
    "plt.legend(loc=\"upper right\");"
   ]
  },
  {
   "cell_type": "code",
   "execution_count": 29,
   "metadata": {
    "collapsed": false
   },
   "outputs": [
    {
     "name": "stdout",
     "output_type": "stream",
     "text": [
      "Probability site A is WORSE than site B: 0.071\n",
      "Probability site A is BETTER than site B: 0.929\n"
     ]
    }
   ],
   "source": [
    "# Count the number of samples less than 0, i.e. the area under the curve\n",
    "# before 0, represent the probability that site A is worse than site B.\n",
    "print \"Probability site A is WORSE than site B: %.3f\" % \\\n",
    "    (delta_samples < 0).mean()\n",
    "\n",
    "print \"Probability site A is BETTER than site B: %.3f\" % \\\n",
    "    (delta_samples > 0).mean()"
   ]
  },
  {
   "cell_type": "code",
   "execution_count": 30,
   "metadata": {
    "collapsed": true
   },
   "outputs": [],
   "source": [
    "import pymc as pm\n",
    "\n",
    "N = 100\n",
    "p = pm.Uniform(\"freq_cheating\", 0, 1)"
   ]
  },
  {
   "cell_type": "code",
   "execution_count": 31,
   "metadata": {
    "collapsed": true
   },
   "outputs": [],
   "source": [
    "true_answers = pm.Bernoulli(\"truths\", p, size=N)"
   ]
  },
  {
   "cell_type": "code",
   "execution_count": 32,
   "metadata": {
    "collapsed": false
   },
   "outputs": [
    {
     "name": "stdout",
     "output_type": "stream",
     "text": [
      "[ True  True False  True False  True False  True False  True  True False\n",
      "  True  True False False False  True False False  True False  True False\n",
      " False False False  True False False  True False  True False False False\n",
      "  True  True  True  True False  True False False False  True  True  True\n",
      " False  True  True  True False False False False False False  True  True\n",
      "  True False  True  True  True False False  True False  True  True False\n",
      "  True False  True  True  True False  True False False  True  True  True\n",
      " False False  True False False False  True False  True False  True  True\n",
      "  True False False  True]\n"
     ]
    }
   ],
   "source": [
    "first_coin_flips = pm.Bernoulli(\"first_flips\", 0.5, size=N)\n",
    "print first_coin_flips.value"
   ]
  },
  {
   "cell_type": "code",
   "execution_count": 33,
   "metadata": {
    "collapsed": true
   },
   "outputs": [],
   "source": [
    "second_coin_flips = pm.Bernoulli(\"second_flips\", 0.5, size=N)"
   ]
  },
  {
   "cell_type": "code",
   "execution_count": 34,
   "metadata": {
    "collapsed": true
   },
   "outputs": [],
   "source": [
    "@pm.deterministic\n",
    "def observed_proportion(t_a=true_answers,\n",
    "                        fc=first_coin_flips,\n",
    "                        sc=second_coin_flips):\n",
    "\n",
    "    observed = fc * t_a + (1 - fc) * sc\n",
    "    return observed.sum() / float(N)"
   ]
  },
  {
   "cell_type": "code",
   "execution_count": 35,
   "metadata": {
    "collapsed": false
   },
   "outputs": [
    {
     "data": {
      "text/plain": [
       "0.33000000000000002"
      ]
     },
     "execution_count": 35,
     "metadata": {},
     "output_type": "execute_result"
    }
   ],
   "source": [
    "observed_proportion.value"
   ]
  },
  {
   "cell_type": "code",
   "execution_count": 36,
   "metadata": {
    "collapsed": true
   },
   "outputs": [],
   "source": [
    "X = 35\n",
    "\n",
    "observations = pm.Binomial(\"obs\", N, observed_proportion, observed=True,\n",
    "                           value=X)"
   ]
  },
  {
   "cell_type": "code",
   "execution_count": 37,
   "metadata": {
    "collapsed": false
   },
   "outputs": [
    {
     "name": "stdout",
     "output_type": "stream",
     "text": [
      " [-----------------100%-----------------] 40000 of 40000 complete in 8.4 sec"
     ]
    }
   ],
   "source": [
    "model = pm.Model([p, true_answers, first_coin_flips,\n",
    "                  second_coin_flips, observed_proportion, observations])\n",
    "\n",
    "# To be explained in Chapter 3!\n",
    "mcmc = pm.MCMC(model)\n",
    "mcmc.sample(40000, 15000)"
   ]
  },
  {
   "cell_type": "code",
   "execution_count": 38,
   "metadata": {
    "collapsed": false
   },
   "outputs": [
    {
     "data": {
      "image/png": "[encoded data removed]",
      "text/plain": [
       "<matplotlib.figure.Figure at 0x2287bd68>"
      ]
     },
     "metadata": {},
     "output_type": "display_data"
    }
   ],
   "source": [
    "figsize(12.5, 3)\n",
    "p_trace = mcmc.trace(\"freq_cheating\")[:]\n",
    "plt.hist(p_trace, histtype=\"stepfilled\", normed=True, alpha=0.85, bins=30,\n",
    "         label=\"posterior distribution\", color=\"#348ABD\")\n",
    "plt.vlines([.05, .35], [0, 0], [5, 5], alpha=0.3)\n",
    "plt.xlim(0, 1)\n",
    "plt.legend();"
   ]
  },
  {
   "cell_type": "code",
   "execution_count": 39,
   "metadata": {
    "collapsed": true
   },
   "outputs": [],
   "source": [
    "p = pm.Uniform(\"freq_cheating\", 0, 1)\n",
    "\n",
    "\n",
    "@pm.deterministic\n",
    "def p_skewed(p=p):\n",
    "    return 0.5 * p + 0.25"
   ]
  },
  {
   "cell_type": "code",
   "execution_count": 40,
   "metadata": {
    "collapsed": false
   },
   "outputs": [
    {
     "name": "stdout",
     "output_type": "stream",
     "text": [
      "number_cheaters\n"
     ]
    }
   ],
   "source": [
    "yes_responses = pm.Binomial(\"number_cheaters\", 100, p_skewed,\n",
    "                            value=35, observed=True)\n",
    "print yes_responses"
   ]
  },
  {
   "cell_type": "code",
   "execution_count": 41,
   "metadata": {
    "collapsed": false
   },
   "outputs": [
    {
     "name": "stdout",
     "output_type": "stream",
     "text": [
      "35\n"
     ]
    }
   ],
   "source": [
    "print yes_responses.value"
   ]
  },
  {
   "cell_type": "code",
   "execution_count": 42,
   "metadata": {
    "collapsed": false
   },
   "outputs": [
    {
     "name": "stdout",
     "output_type": "stream",
     "text": [
      " [-----------------100%-----------------] 25000 of 25000 complete in 0.9 sec"
     ]
    }
   ],
   "source": [
    "model = pm.Model([yes_responses, p_skewed, p])\n",
    "\n",
    "# To Be Explained in Chapter 3!\n",
    "mcmc = pm.MCMC(model)\n",
    "mcmc.sample(25000, 2500)"
   ]
  },
  {
   "cell_type": "code",
   "execution_count": 43,
   "metadata": {
    "collapsed": false
   },
   "outputs": [
    {
     "data": {
      "image/png": "[encoded data removed]",
      "text/plain": [
       "<matplotlib.figure.Figure at 0x21f1a588>"
      ]
     },
     "metadata": {},
     "output_type": "display_data"
    }
   ],
   "source": [
    "figsize(12.5, 3)\n",
    "p_trace = mcmc.trace(\"freq_cheating\")[:]\n",
    "plt.hist(p_trace, histtype=\"stepfilled\", normed=True, alpha=0.85, bins=30,\n",
    "         label=\"posterior distribution\", color=\"#348ABD\")\n",
    "plt.vlines([.05, .35], [0, 0], [5, 5], alpha=0.2)\n",
    "plt.xlim(0, 1)\n",
    "plt.legend();"
   ]
  },
  {
   "cell_type": "code",
   "execution_count": 44,
   "metadata": {
    "collapsed": false
   },
   "outputs": [
    {
     "data": {
      "image/png": "[encoded data removed]",
      "text/plain": [
       "<matplotlib.figure.Figure at 0x223d7eb8>"
      ]
     },
     "metadata": {},
     "output_type": "display_data"
    }
   ],
   "source": [
    "import scipy.stats as stats\n",
    "\n",
    "nor = stats.norm\n",
    "x = np.linspace(-8, 7, 150)\n",
    "mu = (-2, 0, 3)\n",
    "tau = (.7, 1, 2.8)\n",
    "colors = [\"#348ABD\", \"#A60628\", \"#7A68A6\"]\n",
    "parameters = zip(mu, tau, colors)\n",
    "\n",
    "for _mu, _tau, _color in parameters:\n",
    "    plt.plot(x, nor.pdf(x, _mu, scale=1. / _tau),\n",
    "             label=\"$\\mu = %d,\\;\\\\tau = %.1f$\" % (_mu, _tau), color=_color)\n",
    "    plt.fill_between(x, nor.pdf(x, _mu, scale=1. / _tau), color=_color,\n",
    "                     alpha=.33)\n",
    "\n",
    "plt.legend(loc=\"upper right\")\n",
    "plt.xlabel(\"$x$\")\n",
    "plt.ylabel(\"density function at $x$\")\n",
    "plt.title(\"Probability distribution of three different Normal random \\\n",
    "variables\");"
   ]
  },
  {
   "cell_type": "code",
   "execution_count": null,
   "metadata": {
    "collapsed": true
   },
   "outputs": [],
   "source": []
  }
 ],
 "metadata": {
  "kernelspec": {
   "display_name": "Python 2",
   "language": "python",
   "name": "python2"
  },
  "language_info": {
   "codemirror_mode": {
    "name": "ipython",
    "version": 2
   },
   "file_extension": ".py",
   "mimetype": "text/x-python",
   "name": "python",
   "nbconvert_exporter": "python",
   "pygments_lexer": "ipython2",
   "version": "2.7.10"
  }
 },
 "nbformat": 4,
 "nbformat_minor": 0
}
