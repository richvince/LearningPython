{
 "cells": [
  {
   "cell_type": "code",
   "execution_count": 2,
   "metadata": {
    "collapsed": false
   },
   "outputs": [],
   "source": [
    "import pymc as pm\n",
    "\n",
    "\n",
    "parameter = pm.Exponential(\"poisson_param\", 1)\n",
    "data_generator = pm.Poisson(\"data_generator\", parameter)\n",
    "data_plus_one = data_generator + 1"
   ]
  },
  {
   "cell_type": "code",
   "execution_count": 3,
   "metadata": {
    "collapsed": false
   },
   "outputs": [
    {
     "name": "stdout",
     "output_type": "stream",
     "text": [
      "Children of `parameter`: \n",
      "set([<pymc.distributions.Poisson 'data_generator' at 0x000000002118B630>])\n",
      "\n",
      "Parents of `data_generator`: \n",
      "{'mu': <pymc.distributions.Exponential 'poisson_param' at 0x00000000043663C8>}\n",
      "\n",
      "Children of `data_generator`: \n",
      "set([<pymc.PyMCObjects.Deterministic '(data_generator_add_1)' at 0x0000000004366358>])\n"
     ]
    }
   ],
   "source": [
    "print \"Children of `parameter`: \"\n",
    "print parameter.children\n",
    "print \"\\nParents of `data_generator`: \"\n",
    "print data_generator.parents\n",
    "print \"\\nChildren of `data_generator`: \"\n",
    "print data_generator.children"
   ]
  },
  {
   "cell_type": "code",
   "execution_count": 4,
   "metadata": {
    "collapsed": true
   },
   "outputs": [],
   "source": [
    "beta_1 = pm.Uniform(\"beta_1\", 0, 1)\n",
    "beta_2 = pm.Uniform(\"beta_2\", 0, 1)"
   ]
  },
  {
   "cell_type": "code",
   "execution_count": 5,
   "metadata": {
    "collapsed": false
   },
   "outputs": [
    {
     "name": "stdout",
     "output_type": "stream",
     "text": [
      "lambda_1.value = 0.325\n",
      "lambda_2.value = 0.790\n",
      "tau.value = 8.000\n",
      "\n",
      "After calling random() on the variables...\n",
      "lambda_1.value = 0.147\n",
      "lambda_2.value = 0.846\n",
      "tau.value = 7.000\n"
     ]
    }
   ],
   "source": [
    "lambda_1 = pm.Exponential(\"lambda_1\", 1)  # prior on first behaviour\n",
    "lambda_2 = pm.Exponential(\"lambda_2\", 1)  # prior on second behaviour\n",
    "tau = pm.DiscreteUniform(\"tau\", lower=0, upper=10)  # prior on behaviour change\n",
    "\n",
    "print \"lambda_1.value = %.3f\" % lambda_1.value\n",
    "print \"lambda_2.value = %.3f\" % lambda_2.value\n",
    "print \"tau.value = %.3f\" % tau.value\n",
    "print\n",
    "\n",
    "lambda_1.random(), lambda_2.random(), tau.random()\n",
    "\n",
    "print \"After calling random() on the variables...\"\n",
    "print \"lambda_1.value = %.3f\" % lambda_1.value\n",
    "print \"lambda_2.value = %.3f\" % lambda_2.value\n",
    "print \"tau.value = %.3f\" % tau.value"
   ]
  },
  {
   "cell_type": "code",
   "execution_count": 6,
   "metadata": {
    "collapsed": false
   },
   "outputs": [
    {
     "data": {
      "text/plain": [
       "pymc.PyMCObjects.Deterministic"
      ]
     },
     "execution_count": 6,
     "metadata": {},
     "output_type": "execute_result"
    }
   ],
   "source": [
    "type(lambda_1 + lambda_2)"
   ]
  },
  {
   "cell_type": "code",
   "execution_count": 7,
   "metadata": {
    "collapsed": true
   },
   "outputs": [],
   "source": [
    "import numpy as np\n",
    "n_data_points = 5  # in CH1 we had ~70 data points\n",
    "\n",
    "\n",
    "@pm.deterministic\n",
    "def lambda_(tau=tau, lambda_1=lambda_1, lambda_2=lambda_2):\n",
    "    out = np.zeros(n_data_points)\n",
    "    out[:tau] = lambda_1  # lambda before tau is lambda1\n",
    "    out[tau:] = lambda_2  # lambda after tau is lambda2\n",
    "    return out"
   ]
  },
  {
   "cell_type": "code",
   "execution_count": 8,
   "metadata": {
    "collapsed": false
   },
   "outputs": [
    {
     "data": {
      "image/png": "[encoded data removed]",
      "text/plain": [
       "<matplotlib.figure.Figure at 0x211a6240>"
      ]
     },
     "metadata": {},
     "output_type": "display_data"
    }
   ],
   "source": [
    "%matplotlib inline\n",
    "from IPython.core.pylabtools import figsize\n",
    "from matplotlib import pyplot as plt\n",
    "figsize(12.5, 4)\n",
    "\n",
    "\n",
    "samples = [lambda_1.random() for i in range(20000)]\n",
    "plt.hist(samples, bins=70, normed=True, histtype=\"stepfilled\")\n",
    "plt.title(\"Prior distribution for $\\lambda_1$\")\n",
    "plt.xlim(0, 8);"
   ]
  },
  {
   "cell_type": "code",
   "execution_count": 9,
   "metadata": {
    "collapsed": false
   },
   "outputs": [
    {
     "name": "stdout",
     "output_type": "stream",
     "text": [
      "value:  [10  5]\n",
      "calling .random()\n",
      "value:  [10  5]\n"
     ]
    }
   ],
   "source": [
    "data = np.array([10, 5])\n",
    "fixed_variable = pm.Poisson(\"fxd\", 1, value=data, observed=True)\n",
    "print \"value: \", fixed_variable.value\n",
    "print \"calling .random()\"\n",
    "fixed_variable.random()\n",
    "print \"value: \", fixed_variable.value"
   ]
  },
  {
   "cell_type": "code",
   "execution_count": 10,
   "metadata": {
    "collapsed": false
   },
   "outputs": [
    {
     "name": "stdout",
     "output_type": "stream",
     "text": [
      "[10 25 15 20 35]\n"
     ]
    }
   ],
   "source": [
    "# We're using some fake data here\n",
    "data = np.array([10, 25, 15, 20, 35])\n",
    "obs = pm.Poisson(\"obs\", lambda_, value=data, observed=True)\n",
    "print obs.value"
   ]
  },
  {
   "cell_type": "code",
   "execution_count": 11,
   "metadata": {
    "collapsed": true
   },
   "outputs": [],
   "source": [
    "model = pm.Model([obs, lambda_, lambda_1, lambda_2, tau])"
   ]
  },
  {
   "cell_type": "code",
   "execution_count": 13,
   "metadata": {
    "collapsed": false
   },
   "outputs": [
    {
     "name": "stdout",
     "output_type": "stream",
     "text": [
      "34\n"
     ]
    }
   ],
   "source": [
    "tau = pm.rdiscrete_uniform(0, 80)\n",
    "print tau"
   ]
  },
  {
   "cell_type": "code",
   "execution_count": 14,
   "metadata": {
    "collapsed": false
   },
   "outputs": [
    {
     "name": "stdout",
     "output_type": "stream",
     "text": [
      "46.504824399 46.294926123\n"
     ]
    }
   ],
   "source": [
    "alpha = 1. / 20.\n",
    "lambda_1, lambda_2 = pm.rexponential(alpha, 2)\n",
    "print lambda_1, lambda_2"
   ]
  },
  {
   "cell_type": "code",
   "execution_count": 15,
   "metadata": {
    "collapsed": true
   },
   "outputs": [],
   "source": [
    "data = np.r_[pm.rpoisson(lambda_1, tau), pm.rpoisson(lambda_2, 80 - tau)]"
   ]
  },
  {
   "cell_type": "code",
   "execution_count": 16,
   "metadata": {
    "collapsed": false
   },
   "outputs": [
    {
     "data": {
      "image/png": "[encoded data removed]",
      "text/plain": [
       "<matplotlib.figure.Figure at 0x21838748>"
      ]
     },
     "metadata": {},
     "output_type": "display_data"
    }
   ],
   "source": [
    "plt.bar(np.arange(80), data, color=\"#348ABD\")\n",
    "plt.bar(tau - 1, data[tau - 1], color=\"r\", label=\"user behaviour changed\")\n",
    "plt.xlabel(\"Time (days)\")\n",
    "plt.ylabel(\"count of text-msgs received\")\n",
    "plt.title(\"Artificial dataset\")\n",
    "plt.xlim(0, 80)\n",
    "plt.legend();"
   ]
  },
  {
   "cell_type": "code",
   "execution_count": null,
   "metadata": {
    "collapsed": true
   },
   "outputs": [],
   "source": []
  }
 ],
 "metadata": {
  "kernelspec": {
   "display_name": "Python 2",
   "language": "python",
   "name": "python2"
  },
  "language_info": {
   "codemirror_mode": {
    "name": "ipython",
    "version": 2
   },
   "file_extension": ".py",
   "mimetype": "text/x-python",
   "name": "python",
   "nbconvert_exporter": "python",
   "pygments_lexer": "ipython2",
   "version": "2.7.10"
  }
 },
 "nbformat": 4,
 "nbformat_minor": 0
}
